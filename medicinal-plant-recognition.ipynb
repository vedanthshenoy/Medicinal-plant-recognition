{
 "cells": [
  {
   "cell_type": "markdown",
   "metadata": {},
   "source": [
    "# Importing All Dependencies"
   ]
  },
  {
   "cell_type": "code",
   "execution_count": 14,
   "metadata": {},
   "outputs": [],
   "source": [
    "from sklearn.svm import SVC\n",
    "from sklearn import metrics\n",
    "from sklearn.model_selection import train_test_split\n",
    "import os\n",
    "import cv2\n",
    "import numpy\n",
    "import time\n",
    "import mahotas"
   ]
  },
  {
   "cell_type": "markdown",
   "metadata": {},
   "source": [
    "# Getting the Images with Labels"
   ]
  },
  {
   "cell_type": "markdown",
   "metadata": {},
   "source": [
    "Here we loop over the existing dataset.\n",
    "We also get the images of the related species and the corresponding label, but the label is turned into integer values."
   ]
  },
  {
   "cell_type": "code",
   "execution_count": 15,
   "metadata": {},
   "outputs": [],
   "source": [
    "imx=[]\n",
    "imy=[]\n",
    "\n",
    "dir=os.listdir('Plant_Leaves_Dataset')\n",
    "i=0\n",
    "for y in dir:\n",
    "    for x in os.listdir('Plant_Leaves_Dataset/'+y):\n",
    "        img=cv2.imread('Plant_Leaves_Dataset/'+y+\"/\"+x)\n",
    "        img2=cv2.cvtColor(img, cv2.COLOR_BGR2GRAY)\n",
    "        feature = cv2.HuMoments(cv2.moments(img2)).flatten()\n",
    "        haralick = mahotas.features.haralick(img2).mean(axis=0)\n",
    "        imx.append(haralick)\n",
    "        imy.append(i)\n",
    "    i+=1"
   ]
  },
  {
   "cell_type": "markdown",
   "metadata": {},
   "source": [
    "# Convert the list into numpy array"
   ]
  },
  {
   "cell_type": "code",
   "execution_count": 16,
   "metadata": {},
   "outputs": [
    {
     "name": "stdout",
     "output_type": "stream",
     "text": [
      "(538, 13)\n",
      "(538, 1)\n"
     ]
    }
   ],
   "source": [
    "imx=[numpy.array(xi) for xi in imx]\n",
    "imy=[numpy.array(xi) for xi in imy]\n",
    "\n",
    "#Name the arrays as 'x' and 'y'\n",
    "x=numpy.asarray(imx)\n",
    "y=numpy.asarray(imy).reshape(538,1)\n",
    "\n",
    "#We can also print it's shape to imagine the data vector and label vector\n",
    "print(x.shape)\n",
    "print(y.shape)"
   ]
  },
  {
   "cell_type": "markdown",
   "metadata": {},
   "source": [
    "# Splitting Data into testing and training dataset "
   ]
  },
  {
   "cell_type": "markdown",
   "metadata": {},
   "source": [
    "Splitting the training and testing examples with test sizeof 20% and randomizing the data 4 times"
   ]
  },
  {
   "cell_type": "code",
   "execution_count": 17,
   "metadata": {},
   "outputs": [
    {
     "name": "stdout",
     "output_type": "stream",
     "text": [
      "(430, 13)\n",
      "(430, 1)\n",
      "(108, 13)\n",
      "(108, 1)\n"
     ]
    }
   ],
   "source": [
    "x_train,x_test,y_train,y_test=train_test_split(x,y,test_size=0.2,random_state=4) \n",
    "print(x_train.shape) \n",
    "print(y_train.shape)\n",
    "print(x_test.shape)\n",
    "print(y_test.shape)"
   ]
  },
  {
   "cell_type": "markdown",
   "metadata": {},
   "source": [
    "# Applying the data to SVC Algorithm"
   ]
  },
  {
   "cell_type": "markdown",
   "metadata": {},
   "source": [
    "SVC algorithm is used here to classify the medicinal plant.\n",
    "The parameters used are C which stands for penalty parameter of the error term.\n",
    "The Gamma parameter used is the kernel coefficient for the function rbf,poly or sigmoid."
   ]
  },
  {
   "cell_type": "markdown",
   "metadata": {},
   "source": [
    "The kernel in SVC is rbf(radial basis function) by default and same is used in this project."
   ]
  },
  {
   "cell_type": "code",
   "execution_count": 18,
   "metadata": {},
   "outputs": [],
   "source": [
    "param_C = 5\n",
    "param_gamma = 0.05\n",
    "model = SVC(C=param_C,gamma=param_gamma) "
   ]
  },
  {
   "cell_type": "markdown",
   "metadata": {},
   "source": [
    "# Training the Data"
   ]
  },
  {
   "cell_type": "markdown",
   "metadata": {},
   "source": [
    "Along with training using the model.fit function and passing parameters train data and train labels., the training time is also computed."
   ]
  },
  {
   "cell_type": "code",
   "execution_count": 19,
   "metadata": {},
   "outputs": [
    {
     "name": "stdout",
     "output_type": "stream",
     "text": [
      "Training time is 139.94574546813965 ms\n"
     ]
    },
    {
     "name": "stderr",
     "output_type": "stream",
     "text": [
      "C:\\Users\\User\\Anaconda3\\Anaconda\\lib\\site-packages\\sklearn\\utils\\validation.py:578: DataConversionWarning: A column-vector y was passed when a 1d array was expected. Please change the shape of y to (n_samples, ), for example using ravel().\n",
      "  y = column_or_1d(y, warn=True)\n"
     ]
    }
   ],
   "source": [
    "start=time.time()\n",
    "model.fit(x_train,y_train)     #fitting the model with training data both data and targets\n",
    "end=time.time()\n",
    "print(\"Training time is \"+str((end-start)*1000)+\" ms\")"
   ]
  },
  {
   "cell_type": "markdown",
   "metadata": {},
   "source": [
    "# Checking Accuracy of trained model"
   ]
  },
  {
   "cell_type": "markdown",
   "metadata": {},
   "source": [
    "Checking how close the prdicted and actual values are."
   ]
  },
  {
   "cell_type": "code",
   "execution_count": 20,
   "metadata": {},
   "outputs": [
    {
     "name": "stdout",
     "output_type": "stream",
     "text": [
      "Accuracy percentage: 91.66666666666666\n"
     ]
    }
   ],
   "source": [
    "p=model.predict(x_test)\n",
    "accuracy=metrics.accuracy_score(y_test,p) \n",
    "print(\"Accuracy percentage:\",accuracy*100)"
   ]
  },
  {
   "cell_type": "markdown",
   "metadata": {},
   "source": [
    "If accuracy is not desirable,then change the parameters and train again until the desirable accuracy is obtained."
   ]
  },
  {
   "cell_type": "markdown",
   "metadata": {},
   "source": [
    "# Testing on a given image"
   ]
  },
  {
   "cell_type": "markdown",
   "metadata": {},
   "source": [
    "Here we try to give the model an image to classify"
   ]
  },
  {
   "cell_type": "markdown",
   "metadata": {},
   "source": [
    "We do preprocess the image before feeding into the model since the haralick features of train images were used to train the model and not the image itself"
   ]
  },
  {
   "cell_type": "markdown",
   "metadata": {},
   "source": [
    "We can train directly with the image, but a special class of advanced algorithm named CNN(Convolutional neural network) is used.\n",
    "This algorithm and related projects will be iscussed later in another project."
   ]
  },
  {
   "cell_type": "code",
   "execution_count": 21,
   "metadata": {},
   "outputs": [
    {
     "name": "stdout",
     "output_type": "stream",
     "text": [
      "This Medicinal Leaf belongs to the chondrondendron platyphyllus class\n"
     ]
    }
   ],
   "source": [
    "datas=[]\n",
    "image=cv2.imread(\"leafimage.jpg\")\n",
    "imagegray=cv2.cvtColor(image,cv2.COLOR_BGR2GRAY)\n",
    "haralick1=mahotas.features.haralick(imagegray).mean(axis=0)\n",
    "datas.append(haralick1)\n",
    "k=model.predict(datas)#testing fo:r the testing5data only the data\n",
    "dict={0:\"aconitum napellus\",1:\"apium graveolens\",2:\"argemone mexicana\",3:\"bidens pilosa\",4:\"bixa orellana\",5:\"chondrondendron platyphyllus\",6:\"gossypium herbaceum\",7:\"illicium verum\",8:\"melissa officinalis\",9:\"oxalis acetosella\",10:\"sambugus nigra\",11:\"tropaeolum majus\",12:\"veronina condensata\"}\n",
    "print(\"This Medicinal Leaf belongs to the \"+dict.get(k[0])+\" class\")"
   ]
  },
  {
   "cell_type": "code",
   "execution_count": null,
   "metadata": {},
   "outputs": [],
   "source": []
  }
 ],
 "metadata": {
  "kernelspec": {
   "display_name": "Python 3",
   "language": "python",
   "name": "python3"
  },
  "language_info": {
   "codemirror_mode": {
    "name": "ipython",
    "version": 3
   },
   "file_extension": ".py",
   "mimetype": "text/x-python",
   "name": "python",
   "nbconvert_exporter": "python",
   "pygments_lexer": "ipython3",
   "version": "3.6.5"
  }
 },
 "nbformat": 4,
 "nbformat_minor": 2
}
